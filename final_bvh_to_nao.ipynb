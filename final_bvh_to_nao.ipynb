{
 "cells": [
  {
   "cell_type": "code",
   "execution_count": 1,
   "metadata": {},
   "outputs": [],
   "source": [
    "from nao_gestures import NaoBvhConverter"
   ]
  },
  {
   "cell_type": "code",
   "execution_count": 2,
   "metadata": {},
   "outputs": [],
   "source": [
    "import glob"
   ]
  },
  {
   "cell_type": "code",
   "execution_count": 3,
   "metadata": {},
   "outputs": [],
   "source": [
    "BVH_DIR = './files/pepper_RTV'"
   ]
  },
  {
   "cell_type": "code",
   "execution_count": 4,
   "metadata": {},
   "outputs": [
    {
     "name": "stdout",
     "output_type": "stream",
     "text": [
      "['./files/pepper_RTV/RTV-1-0_rnn_10fps.bvh', './files/pepper_RTV/RTV-1-0_tran_10fps.bvh', './files/pepper_RTV/RTV-1-1_rnn_10fps.bvh', './files/pepper_RTV/RTV-1-1_tran_10fps.bvh', './files/pepper_RTV/RTV-2-0_rnn_10fps.bvh', './files/pepper_RTV/RTV-2-0_tran_10fps.bvh', './files/pepper_RTV/RTV-3-0_rnn_10fps.bvh', './files/pepper_RTV/RTV-3-0_tran_10fps.bvh', './files/pepper_RTV/RTV-4-0_rnn_10fps.bvh', './files/pepper_RTV/RTV-4-0_tran_10fps.bvh', './files/pepper_RTV/RTV-4-1_rnn_10fps.bvh', './files/pepper_RTV/RTV-4-1_tran_10fps.bvh', './files/pepper_RTV/RTV-4-2_rnn_10fps.bvh', './files/pepper_RTV/RTV-4-2_tran_10fps.bvh', './files/pepper_RTV/RTV-5-0_rnn_10fps.bvh', './files/pepper_RTV/RTV-5-0_tran_10fps.bvh', './files/pepper_RTV/RTV-6-0_rnn_10fps.bvh', './files/pepper_RTV/RTV-6-0_tran_10fps.bvh', './files/pepper_RTV/RTV-6-1_rnn_10fps.bvh', './files/pepper_RTV/RTV-6-1_tran_10fps.bvh', './files/pepper_RTV/RTV-7-1_rnn_10fps.bvh', './files/pepper_RTV/RTV-7-1_tran_10fps.bvh', './files/pepper_RTV/RTV-7-2_rnn_10fps.bvh', './files/pepper_RTV/RTV-7-2_tran_10fps.bvh']\n"
     ]
    }
   ],
   "source": [
    "bvh_files = glob.glob(BVH_DIR + '/*.bvh')\n",
    "bvh_files.sort()\n",
    "print(bvh_files)"
   ]
  },
  {
   "cell_type": "code",
   "execution_count": 7,
   "metadata": {},
   "outputs": [],
   "source": [
    "for gest_file in bvh_files:\n",
    "    bvh_file = NaoBvhConverter.read_mocap_data(gest_file)\n",
    "    nao_dataframe = NaoBvhConverter.bvh_to_dataframe_of_nao_gestures(bvh_file)\n",
    "\n",
    "    nao_dataframe.to_csv(gest_file.replace('files', 'results').replace('.bvh', '_pepper.csv'))"
   ]
  },
  {
   "cell_type": "code",
   "execution_count": null,
   "metadata": {},
   "outputs": [],
   "source": []
  }
 ],
 "metadata": {
  "interpreter": {
   "hash": "a6d27796dcd64b71bee16defd3a406bf75f9fc8d1a98cc85016d97b20ba1a291"
  },
  "kernelspec": {
   "display_name": "Python 2.7.18 64-bit ('pepper_env': conda)",
   "name": "python3"
  },
  "language_info": {
   "codemirror_mode": {
    "name": "ipython",
    "version": 2
   },
   "file_extension": ".py",
   "mimetype": "text/x-python",
   "name": "python",
   "nbconvert_exporter": "python",
   "pygments_lexer": "ipython2",
   "version": "2.7.18"
  },
  "orig_nbformat": 4
 },
 "nbformat": 4,
 "nbformat_minor": 2
}
