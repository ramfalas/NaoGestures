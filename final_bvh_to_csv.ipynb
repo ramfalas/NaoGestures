{
 "cells": [
  {
   "cell_type": "code",
   "execution_count": 1,
   "metadata": {},
   "outputs": [],
   "source": [
    "import glob"
   ]
  },
  {
   "cell_type": "code",
   "execution_count": 2,
   "metadata": {},
   "outputs": [],
   "source": [
    "BVH_DIR = './files/pepper_RTV'"
   ]
  },
  {
   "cell_type": "code",
   "execution_count": 3,
   "metadata": {},
   "outputs": [
    {
     "name": "stdout",
     "output_type": "stream",
     "text": [
      "['./files/pepper_RTV/RTV-1-0_rnn_10fps.bvh', './files/pepper_RTV/RTV-1-0_tran_10fps.bvh', './files/pepper_RTV/RTV-1-1_rnn_10fps.bvh', './files/pepper_RTV/RTV-1-1_tran_10fps.bvh', './files/pepper_RTV/RTV-2-0_rnn_10fps.bvh', './files/pepper_RTV/RTV-2-0_tran_10fps.bvh', './files/pepper_RTV/RTV-3-0_rnn_10fps.bvh', './files/pepper_RTV/RTV-3-0_tran_10fps.bvh', './files/pepper_RTV/RTV-4-0_rnn_10fps.bvh', './files/pepper_RTV/RTV-4-0_tran_10fps.bvh', './files/pepper_RTV/RTV-4-1_rnn_10fps.bvh', './files/pepper_RTV/RTV-4-1_tran_10fps.bvh', './files/pepper_RTV/RTV-4-2_rnn_10fps.bvh', './files/pepper_RTV/RTV-4-2_tran_10fps.bvh', './files/pepper_RTV/RTV-5-0_rnn_10fps.bvh', './files/pepper_RTV/RTV-5-0_tran_10fps.bvh', './files/pepper_RTV/RTV-6-0_rnn_10fps.bvh', './files/pepper_RTV/RTV-6-0_tran_10fps.bvh', './files/pepper_RTV/RTV-6-1_rnn_10fps.bvh', './files/pepper_RTV/RTV-6-1_tran_10fps.bvh', './files/pepper_RTV/RTV-7-1_rnn_10fps.bvh', './files/pepper_RTV/RTV-7-1_tran_10fps.bvh', './files/pepper_RTV/RTV-7-2_rnn_10fps.bvh', './files/pepper_RTV/RTV-7-2_tran_10fps.bvh']\n"
     ]
    }
   ],
   "source": [
    "bvh_files = glob.glob(BVH_DIR + '/*.bvh')\n",
    "bvh_files.sort()\n",
    "print(bvh_files)"
   ]
  },
  {
   "cell_type": "code",
   "execution_count": 4,
   "metadata": {},
   "outputs": [],
   "source": [
    "from pymo.parsers import BVHParser\n",
    "from pymo.preprocessing import JointSelector, MocapParameterizer, ConstantsRemover, Numpyfier, RootTransformer\n",
    "\n",
    "from sklearn.pipeline import Pipeline"
   ]
  },
  {
   "cell_type": "code",
   "execution_count": 5,
   "metadata": {},
   "outputs": [],
   "source": [
    "p = BVHParser()"
   ]
  },
  {
   "cell_type": "code",
   "execution_count": 6,
   "metadata": {},
   "outputs": [],
   "source": [
    "data_pipe = Pipeline([\n",
    "    ('jtsel', JointSelector(['Spine','Spine1','Spine2','Spine3','Neck','Neck1','Head','RightShoulder', 'RightArm', 'RightForeArm', 'RightHand', 'LeftShoulder', 'LeftArm', 'LeftForeArm', 'LeftHand'], include_root=True)),\n",
    "    ('param', MocapParameterizer(param_type='euler')), # other possibilities are: 'euler', 'quat', 'expmap', 'position', 'expmap2pos'\n",
    "    ('cnst', ConstantsRemover()),\n",
    "    #('np', Numpyfier())\n",
    "    ])"
   ]
  },
  {
   "cell_type": "code",
   "execution_count": 7,
   "metadata": {},
   "outputs": [],
   "source": [
    "for gest_file in bvh_files:\n",
    "    data_all = [p.parse(gest_file)]\n",
    "    out_data = data_pipe.fit_transform(data_all)\n",
    "    data_df = out_data[0].values\n",
    "\n",
    "    df = data_df.loc[:,~data_df.columns.duplicated()]\n",
    "\n",
    "    df.to_csv(gest_file.replace('files/', 'results/raw_').replace('.bvh', '_raw.csv'))"
   ]
  },
  {
   "cell_type": "code",
   "execution_count": null,
   "metadata": {},
   "outputs": [],
   "source": []
  }
 ],
 "metadata": {
  "interpreter": {
   "hash": "a6d27796dcd64b71bee16defd3a406bf75f9fc8d1a98cc85016d97b20ba1a291"
  },
  "kernelspec": {
   "display_name": "Python 2.7.18 64-bit ('pepper_env': conda)",
   "name": "python3"
  },
  "language_info": {
   "codemirror_mode": {
    "name": "ipython",
    "version": 2
   },
   "file_extension": ".py",
   "mimetype": "text/x-python",
   "name": "python",
   "nbconvert_exporter": "python",
   "pygments_lexer": "ipython2",
   "version": "2.7.18"
  },
  "orig_nbformat": 4
 },
 "nbformat": 4,
 "nbformat_minor": 2
}
